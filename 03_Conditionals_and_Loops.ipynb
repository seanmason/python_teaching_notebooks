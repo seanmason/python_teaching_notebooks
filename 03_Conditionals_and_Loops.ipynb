{
 "cells": [
  {
   "cell_type": "markdown",
   "source": [
    "### Conditionals\n",
    "\n",
    "So far we've just done a little bit of math. That's cool, but we can't program video games just by writing equations. We need to start representing _logic_! The simplest way to introduce logic into our programs is using an `if` statement. This is SUPER important in programming.\n",
    "\n",
    "Let's take a look at an example:"
   ],
   "metadata": {
    "collapsed": false
   }
  },
  {
   "cell_type": "code",
   "execution_count": 1,
   "outputs": [
    {
     "name": "stdout",
     "output_type": "stream",
     "text": [
      "The numbers are equal!\n"
     ]
    }
   ],
   "source": [
    "some_number = 5\n",
    "another_number = 5\n",
    "if some_number == another_number:\n",
    "    print(\"The numbers are equal!\")"
   ],
   "metadata": {
    "collapsed": false
   }
  },
  {
   "cell_type": "markdown",
   "source": [
    "Here we create two variables, and give each the value of 5. The next line has the `if` statement. The `if` statement has four parts:\n",
    "- The keyword (`if`)\n",
    "- An expression that evaluates to either True or False (`some_number == another_number`)\n",
    "- The `:` at the end of the statement\n",
    "- A \"body\" - this is the part that runs if the condition evaluates to True. Otherwise it will not run. The body is always indented in Python.\n",
    "\n",
    "Above, since the condition evaluated to True, we printed out \"The numbers are equal!\". Let's try it again if the numbers are not equal."
   ],
   "metadata": {
    "collapsed": false
   }
  },
  {
   "cell_type": "code",
   "execution_count": 3,
   "outputs": [],
   "source": [
    "some_number = 5\n",
    "another_number = 7777\n",
    "if some_number == another_number:\n",
    "    print(\"The numbers are equal!\")"
   ],
   "metadata": {
    "collapsed": false
   }
  },
  {
   "cell_type": "markdown",
   "source": [
    "Nothing printed out this time! That is because `5 != 7777`, so the \"body\" of the if statement did not run."
   ],
   "metadata": {
    "collapsed": false
   }
  },
  {
   "cell_type": "markdown",
   "source": [
    "What if we want something else to happen if the condition is NOT true? We can add an `else` statement, with another \"body\" to `else` statement, like this:"
   ],
   "metadata": {
    "collapsed": false
   }
  },
  {
   "cell_type": "code",
   "execution_count": 4,
   "outputs": [
    {
     "name": "stdout",
     "output_type": "stream",
     "text": [
      "The numbers are NOT equal!\n"
     ]
    }
   ],
   "source": [
    "some_number = 5\n",
    "another_number = 7777\n",
    "if some_number == another_number:\n",
    "    print(\"The numbers are equal!\")\n",
    "else:\n",
    "    print(\"The numbers are NOT equal!\")"
   ],
   "metadata": {
    "collapsed": false
   }
  },
  {
   "cell_type": "markdown",
   "source": [
    "You can also check multiple things in a row using the `elif` statement. This is short for \"else if\"."
   ],
   "metadata": {
    "collapsed": false
   }
  },
  {
   "cell_type": "code",
   "execution_count": 5,
   "outputs": [
    {
     "name": "stdout",
     "output_type": "stream",
     "text": [
      "some_number is 3 times another_number!\n"
     ]
    }
   ],
   "source": [
    "some_number = 5\n",
    "another_number = 15\n",
    "if some_number * 5 == another_number:\n",
    "    print(\"some_number is 5 times another_number!\")\n",
    "elif some_number * 3 == another_number:\n",
    "    print(\"some_number is 3 times another_number!\")\n",
    "else:\n",
    "    print(\"Nothing interesting found...\")"
   ],
   "metadata": {
    "collapsed": false
   }
  },
  {
   "cell_type": "code",
   "execution_count": 6,
   "outputs": [
    {
     "name": "stdout",
     "output_type": "stream",
     "text": [
      "Nothing interesting found...\n"
     ]
    }
   ],
   "source": [
    "some_number = 5\n",
    "another_number = 777\n",
    "if some_number * 5 == another_number:\n",
    "    print(\"some_number is 5 times another_number!\")\n",
    "elif some_number * 3 == another_number:\n",
    "    print(\"some_number is 3 times another_number!\")\n",
    "else:\n",
    "    print(\"Nothing interesting found...\")"
   ],
   "metadata": {
    "collapsed": false
   }
  },
  {
   "cell_type": "markdown",
   "source": [
    "### Loops\n",
    "\n",
    "You know what computers are _great_ at? Doing repetitive things. Using \"loops\", we can tell the computer to do things a bunch of times.\n",
    "\n",
    "Let's start with the `for` loop. Here's an example:"
   ],
   "metadata": {
    "collapsed": false
   }
  },
  {
   "cell_type": "code",
   "execution_count": 7,
   "outputs": [
    {
     "name": "stdout",
     "output_type": "stream",
     "text": [
      "1\n",
      "2\n",
      "3\n",
      "4\n"
     ]
    }
   ],
   "source": [
    "for x in range(1, 5):\n",
    "    print(x)"
   ],
   "metadata": {
    "collapsed": false
   }
  },
  {
   "cell_type": "markdown",
   "source": [
    "What the heck is going on here? We see a few new things going on. Well, a `for` loop has several parts:\n",
    "- The `for` keyword\n",
    "- An \"iterable\" statement (`x in range(1, 5)`)\n",
    "- A `:` to signify the end of the `for` statement\n",
    "- An indented \"body\" - this will run for each iteration of the loop.\n",
    "\n",
    "Ok, maybe you're not familiar with the terms \"iterable\" or \"iterate\". In this context, \"iterating\" through something means looking at a list of things one at a time, and doing something with them. Sometimes we also call this \"looping over\" something. An \"iterable\" is something you can iterate over.\n",
    "\n",
    "So what are we \"iterating\" over here? We see a new function here - `range(1, 5)`. What is that?? This thing spits out numbers from 1 to 5 (excluding the last number for some reason) one at a time. The `x in ` part means that for each number the `range(1, 5)` spits out, we will assign each number - one at a time - to a variable called `x`, then we run the body of the `for` loop.\n",
    "\n",
    "Confused yet? Let's see some variations of that last example."
   ],
   "metadata": {
    "collapsed": false
   }
  },
  {
   "cell_type": "code",
   "execution_count": 8,
   "outputs": [
    {
     "name": "stdout",
     "output_type": "stream",
     "text": [
      "3\n",
      "4\n",
      "5\n",
      "6\n",
      "7\n",
      "8\n"
     ]
    }
   ],
   "source": [
    "for some_number in range(3, 9):\n",
    "    print(some_number)"
   ],
   "metadata": {
    "collapsed": false
   }
  },
  {
   "cell_type": "markdown",
   "source": [
    "Now we iterate over the values from 3 to 9 (excluding 9), assigning each value to the variable `some_number`, then we print it out. Not so bad, eh?"
   ],
   "metadata": {
    "collapsed": false
   }
  },
  {
   "cell_type": "markdown",
   "source": [
    "We can combine for loops and if statements too! How about this?"
   ],
   "metadata": {
    "collapsed": false
   }
  },
  {
   "cell_type": "code",
   "execution_count": 9,
   "outputs": [
    {
     "name": "stdout",
     "output_type": "stream",
     "text": [
      "7\n",
      "14\n",
      "21\n",
      "28\n",
      "35\n",
      "42\n",
      "49\n",
      "56\n",
      "63\n",
      "70\n",
      "77\n",
      "84\n",
      "91\n",
      "98\n"
     ]
    }
   ],
   "source": [
    "for x in range(1, 100):\n",
    "    if x % 7 == 0:\n",
    "        print(x)"
   ],
   "metadata": {
    "collapsed": false
   }
  },
  {
   "cell_type": "markdown",
   "source": [
    "This loops over all numbers from 1 to 99. It checks if each number is divisible by 7 using the modulo (`%`) operator, because if there is no remainder, the number is divisible. If it is divisible by 7, we print it out.\n",
    "\n",
    "Notice that whenever we have a \"body\" of an `if` or `for`, we have to indent more and more times. This is important in Python! If you forget it, you'll get an ugly error message like this. This is the first time we have seen an error! This just means that Python didn't understand your code, and it's doing its best to tell you where you might've made a mistake."
   ],
   "metadata": {
    "collapsed": false
   }
  },
  {
   "cell_type": "code",
   "execution_count": 11,
   "outputs": [
    {
     "ename": "IndentationError",
     "evalue": "expected an indented block after 'for' statement on line 1 (1416548451.py, line 3)",
     "output_type": "error",
     "traceback": [
      "\u001B[0;36m  Cell \u001B[0;32mIn[11], line 3\u001B[0;36m\u001B[0m\n\u001B[0;31m    if x % 7 == 0:\u001B[0m\n\u001B[0m    ^\u001B[0m\n\u001B[0;31mIndentationError\u001B[0m\u001B[0;31m:\u001B[0m expected an indented block after 'for' statement on line 1\n"
     ]
    }
   ],
   "source": [
    "for x in range(1, 100):\n",
    "# OH NO I FORGOT TO INDENT\n",
    "if x % 7 == 0:\n",
    "    print(x)"
   ],
   "metadata": {
    "collapsed": false
   }
  },
  {
   "cell_type": "markdown",
   "source": [
    "### While Loops\n",
    "\n",
    "Another type of loop is the `while` loop. This runs a block of code while a condition is True.\n",
    "\n",
    "Let's see an example:"
   ],
   "metadata": {
    "collapsed": false
   }
  },
  {
   "cell_type": "code",
   "execution_count": 12,
   "outputs": [
    {
     "name": "stdout",
     "output_type": "stream",
     "text": [
      "0\n",
      "1\n",
      "2\n",
      "3\n",
      "4\n",
      "5\n",
      "6\n",
      "7\n",
      "8\n",
      "9\n"
     ]
    }
   ],
   "source": [
    "some_number = 0\n",
    "while some_number < 10:\n",
    "    print(some_number)\n",
    "    some_number += 1"
   ],
   "metadata": {
    "collapsed": false
   }
  },
  {
   "cell_type": "markdown",
   "source": [
    "What's going on here?\n",
    "\n",
    "Well, we start by creating a variable with the value of 0. Then we have the `while` statement, followed by a condition. This means that, as long as `some_number` is less than 10, we will run the body of the loop. In the body of the loop, we print out the number, then add one to the number. When it gets too high, it is done with the loop and continues on with the rest of the program."
   ],
   "metadata": {
    "collapsed": false
   }
  },
  {
   "cell_type": "markdown",
   "source": [
    "You should be a little careful with loops - you could accidentally write one that goes on forever! Here's an example. If you run it, it will go on forever. You can halt execution of the cell by hitting the \"Stop\" button."
   ],
   "metadata": {
    "collapsed": false
   }
  },
  {
   "cell_type": "code",
   "execution_count": null,
   "outputs": [],
   "source": [
    "some_number = 0\n",
    "while some_number > -1:\n",
    "    some_number += 1"
   ],
   "metadata": {
    "collapsed": false
   }
  },
  {
   "cell_type": "markdown",
   "source": [
    "Why does this run forever? See if you can figure it out. Look through this little program one line at a time, and explain to yourself what it is doing. Treat it like a little puzzle.\n",
    "\n",
    "We call this \"debugging\" a program - you think through the code trying to figure out where the \"bug\" is!"
   ],
   "metadata": {
    "collapsed": false
   }
  },
  {
   "cell_type": "markdown",
   "source": [
    "### Your Turn!\n",
    "\n",
    "It's your turn! Try out any of the stuff we learned about in this notebook. Go wild! Get crazy and creative!"
   ],
   "metadata": {
    "collapsed": false
   }
  },
  {
   "cell_type": "code",
   "execution_count": null,
   "outputs": [],
   "source": [],
   "metadata": {
    "collapsed": false
   }
  }
 ],
 "metadata": {
  "kernelspec": {
   "display_name": "Python 3",
   "language": "python",
   "name": "python3"
  },
  "language_info": {
   "codemirror_mode": {
    "name": "ipython",
    "version": 2
   },
   "file_extension": ".py",
   "mimetype": "text/x-python",
   "name": "python",
   "nbconvert_exporter": "python",
   "pygments_lexer": "ipython2",
   "version": "2.7.6"
  }
 },
 "nbformat": 4,
 "nbformat_minor": 0
}
